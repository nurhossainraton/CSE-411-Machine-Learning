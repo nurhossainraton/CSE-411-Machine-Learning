{
 "cells": [
  {
   "cell_type": "code",
   "execution_count": 18,
   "metadata": {},
   "outputs": [],
   "source": [
    "import pandas as pd\n",
    "import numpy as np\n",
    "from sklearn.preprocessing import StandardScaler, MinMaxScaler\n",
    "from sklearn.model_selection import train_test_split\n",
    "from sklearn.ensemble import BaggingClassifier\n",
    "from sklearn.utils import resample\n",
    "from sklearn.impute import SimpleImputer\n",
    "from sklearn.metrics import accuracy_score\n",
    "from scipy.stats import mode\n",
    "from sklearn.metrics import accuracy_score, recall_score, precision_score, f1_score, roc_auc_score, confusion_matrix\n",
    "import seaborn as sns\n",
    "import matplotlib.pyplot as plt"
   ]
  },
  {
   "cell_type": "code",
   "execution_count": 19,
   "metadata": {},
   "outputs": [],
   "source": [
    "def telco_preprocess():\n",
    "    dataFrame = pd.read_csv('WA_Fn-UseC_-Telco-Customer-Churn.csv')\n",
    "    \n",
    "\n",
    "    dataFrame['TotalCharges'] = pd.to_numeric(dataFrame['TotalCharges'], errors='coerce')\n",
    "    \n",
    "\n",
    "    dataFrame['TotalCharges'] = dataFrame['TotalCharges'].fillna(dataFrame['TotalCharges'].mean())\n",
    "    \n",
    "\n",
    "    dataFrame = dataFrame.dropna(subset=['TotalCharges'])\n",
    "    \n",
    "\n",
    "    labels = dataFrame['Churn'].map({'Yes': 1, 'No': 0})\n",
    "    \n",
    "\n",
    "    features = dataFrame.drop(columns=['Churn'])\n",
    "    \n",
    "\n",
    "    X_train, X_test, y_train, y_test = train_test_split(\n",
    "        features, labels, test_size=0.2, random_state=1, stratify=labels\n",
    "    )\n",
    "    \n",
    "\n",
    "    scaler = StandardScaler()\n",
    "    \n",
    "\n",
    "    numeric_columns = X_train.select_dtypes(include=['int64', 'float64']).columns\n",
    "    X_train[numeric_columns] = scaler.fit_transform(X_train[numeric_columns])\n",
    "    X_test[numeric_columns] = scaler.transform(X_test[numeric_columns])\n",
    "    \n",
    "\n",
    "    X_train = pd.get_dummies(X_train, drop_first=True)\n",
    "    X_test = pd.get_dummies(X_test, drop_first=True)\n",
    "    \n",
    "\n",
    "    X_train, X_test = X_train.align(X_test, join='left', axis=1, fill_value=0)\n",
    "    \n",
    " \n",
    "    X_train = X_train.values.astype(np.float64)\n",
    "    X_test = X_test.values.astype(np.float64)\n",
    "    y_train = y_train.values.astype(np.float64)\n",
    "    y_test = y_test.values.astype(np.float64)\n",
    "    \n",
    "    return X_train, y_train, X_test, y_test\n"
   ]
  },
  {
   "cell_type": "code",
   "execution_count": 20,
   "metadata": {},
   "outputs": [],
   "source": [
    "def creditcard():\n",
    "            dataFrame=pd.read_csv('creditcard.csv')\n",
    "           \n",
    "            features=dataFrame.drop(columns=['Class'])\n",
    "            labels=dataFrame['Class']\n",
    "            \n",
    "            X_train, X_test, y_train, y_test = train_test_split(features, labels,\n",
    "                                                    test_size=0.2,\n",
    "                                                    random_state=1,\n",
    "                                                    stratify=labels)\n",
    "            scaler=StandardScaler()\n",
    "            columns=X_train.columns\n",
    "            X_train[columns]=scaler.fit_transform(X_train[columns])\n",
    "            X_test[columns]=scaler.transform(X_test[columns])\n",
    "            return X_train,y_train,X_test,y_test\n"
   ]
  },
  {
   "cell_type": "code",
   "execution_count": 21,
   "metadata": {},
   "outputs": [],
   "source": [
    "class LogisticRegression():\n",
    "    \n",
    "    def __init__(self):\n",
    "        self.weights = None\n",
    "    \n",
    "    def sigmoid(self, z):\n",
    "        #print(\"z's value in sigmoid func \")\n",
    "        #print(z)\n",
    "        return 1 / (1 + np.exp(-z))  \n",
    "    \n",
    "    def computecost(self, X, y):\n",
    "        h = self.sigmoid(np.dot(X, self.weights))\n",
    "        epsilon = 1e-5 \n",
    "        cost = -(1 / len(y)) * np.sum(y * np.log(h + epsilon) + (1 - y) * np.log(1 - h + epsilon))\n",
    "        return cost\n",
    "    \n",
    "    def gradient_descent(self, X, y, learning_rate, iterations):\n",
    "        m = len(y)\n",
    "        cost_history = []\n",
    "        \n",
    "        for i in range(iterations):\n",
    "            h = self.sigmoid(np.dot(X, self.weights))\n",
    "            gradient = np.dot(X.T, (h - y)) / m\n",
    "            self.weights -= learning_rate * gradient  \n",
    "            cost = self.computecost(X, y)\n",
    "            cost_history.append(cost)\n",
    "        \n",
    "        return self.weights, cost_history\n",
    "    \n",
    "    def fit(self, X, y, learning_rate=0.01, iterations=1000):\n",
    "        if X.ndim == 1:\n",
    "            X = X.reshape(-1, 1)  \n",
    "        self.weights = np.zeros(X.shape[1], dtype=float) \n",
    "        self.weights, cost_history = self.gradient_descent(X, y, learning_rate, iterations)\n",
    "        return self.weights\n",
    "    \n",
    "    def predict(self, X):\n",
    "        predictions = self.sigmoid(np.dot(X, self.weights))\n",
    "        return np.where(predictions >= 0.5, 1, 0)\n",
    "\n"
   ]
  },
  {
   "cell_type": "code",
   "execution_count": null,
   "metadata": {},
   "outputs": [],
   "source": []
  },
  {
   "cell_type": "code",
   "execution_count": 22,
   "metadata": {},
   "outputs": [],
   "source": [
    "from sklearn.metrics import confusion_matrix, roc_auc_score, precision_recall_curve, auc\n",
    "\n",
    "def calculate_metrics(y_true, y_pred, y_prob):\n",
    "    tn, fp, fn, tp = confusion_matrix(y_true, y_pred).ravel()\n",
    "    \n",
    "    specificity = tn / (tn + fp)\n",
    "    precision = tp / (tp + fp)\n",
    "    accuracy = (tp + tn) / (tp + tn + fp + fn)\n",
    "    sensitivity = tp / (tp + fn)\n",
    "    f1 = 2 * (precision * sensitivity) / (precision + sensitivity) if (precision + sensitivity) > 0 else 0\n",
    "    auc_score = roc_auc_score(y_true, y_prob)\n",
    "\n",
    "    precision_vals, recall_vals, _ = precision_recall_curve(y_true, y_prob)\n",
    "    aupr = auc(recall_vals, precision_vals)\n",
    "\n",
    "    return accuracy, sensitivity, specificity, precision, f1, auc_score, aupr\n"
   ]
  },
  {
   "cell_type": "code",
   "execution_count": 23,
   "metadata": {},
   "outputs": [],
   "source": [
    "def bagging():\n",
    "    \n",
    "    try:\n",
    "        \n",
    "        X_train, y_train, X_test, y_test = creditcard()\n",
    "\n",
    "        \n",
    "        base_models = []\n",
    "        metrics = []\n",
    "        \n",
    "        \n",
    "        for i in range(9):\n",
    "            lr=LogisticRegression()\n",
    "            X_sample, y_sample = resample(X_train, y_train, replace=True, random_state=i)\n",
    "            \n",
    "            lr.fit(X_sample, y_sample)\n",
    "            \n",
    "            base_models.append(lr)\n",
    "            \n",
    "            y_pred = lr.predict(X_test)\n",
    "            \n",
    "            y_pred_proba = lr.sigmoid(np.dot(X_test, lr.weights))\n",
    "            \n",
    "            model_metrics = calculate_metrics(y_test, y_pred, y_pred_proba)\n",
    "            metrics.append(model_metrics)\n",
    "            \n",
    "    except Exception as e:\n",
    "        print(f\"Error occurred in preprocessing: {e}\")\n",
    "    \n",
    "    avg_metrics = np.mean(metrics, axis=0)\n",
    "    \n",
    "    print(\"Returning models and test data\")\n",
    "    return base_models, X_train, X_test, y_train, y_test, avg_metrics\n"
   ]
  },
  {
   "cell_type": "code",
   "execution_count": 24,
   "metadata": {},
   "outputs": [
    {
     "ename": "KeyboardInterrupt",
     "evalue": "",
     "output_type": "error",
     "traceback": [
      "\u001b[1;31m---------------------------------------------------------------------------\u001b[0m",
      "\u001b[1;31mKeyboardInterrupt\u001b[0m                         Traceback (most recent call last)",
      "Cell \u001b[1;32mIn[24], line 1\u001b[0m\n\u001b[1;32m----> 1\u001b[0m base_models, X_train, X_test, y_train, y_test, avg_metrics \u001b[38;5;241m=\u001b[39m \u001b[43mbagging\u001b[49m\u001b[43m(\u001b[49m\u001b[43m)\u001b[49m\n\u001b[0;32m      3\u001b[0m \u001b[38;5;28;01mif\u001b[39;00m avg_metrics \u001b[38;5;129;01mis\u001b[39;00m \u001b[38;5;129;01mnot\u001b[39;00m \u001b[38;5;28;01mNone\u001b[39;00m:\n\u001b[0;32m      4\u001b[0m     \u001b[38;5;28mprint\u001b[39m(\u001b[38;5;124m\"\u001b[39m\u001b[38;5;124mAverage Performance Metrics:\u001b[39m\u001b[38;5;124m\"\u001b[39m)\n",
      "Cell \u001b[1;32mIn[23], line 18\u001b[0m, in \u001b[0;36mbagging\u001b[1;34m()\u001b[0m\n\u001b[0;32m     14\u001b[0m X_sample, y_sample \u001b[38;5;241m=\u001b[39m resample(X_train, y_train, replace\u001b[38;5;241m=\u001b[39m\u001b[38;5;28;01mTrue\u001b[39;00m, random_state\u001b[38;5;241m=\u001b[39mi)\n\u001b[0;32m     16\u001b[0m lr \u001b[38;5;241m=\u001b[39m LogisticRegression()\n\u001b[1;32m---> 18\u001b[0m \u001b[43mlr\u001b[49m\u001b[38;5;241;43m.\u001b[39;49m\u001b[43mfit\u001b[49m\u001b[43m(\u001b[49m\u001b[43mX_sample\u001b[49m\u001b[43m,\u001b[49m\u001b[43m \u001b[49m\u001b[43my_sample\u001b[49m\u001b[43m)\u001b[49m\n\u001b[0;32m     20\u001b[0m base_models\u001b[38;5;241m.\u001b[39mappend(lr)\n\u001b[0;32m     22\u001b[0m y_pred \u001b[38;5;241m=\u001b[39m lr\u001b[38;5;241m.\u001b[39mpredict(X_test)\n",
      "Cell \u001b[1;32mIn[21], line 34\u001b[0m, in \u001b[0;36mLogisticRegression.fit\u001b[1;34m(self, X, y, learning_rate, iterations)\u001b[0m\n\u001b[0;32m     32\u001b[0m     X \u001b[38;5;241m=\u001b[39m X\u001b[38;5;241m.\u001b[39mreshape(\u001b[38;5;241m-\u001b[39m\u001b[38;5;241m1\u001b[39m, \u001b[38;5;241m1\u001b[39m)  \n\u001b[0;32m     33\u001b[0m \u001b[38;5;28mself\u001b[39m\u001b[38;5;241m.\u001b[39mweights \u001b[38;5;241m=\u001b[39m np\u001b[38;5;241m.\u001b[39mzeros(X\u001b[38;5;241m.\u001b[39mshape[\u001b[38;5;241m1\u001b[39m], dtype\u001b[38;5;241m=\u001b[39m\u001b[38;5;28mfloat\u001b[39m) \n\u001b[1;32m---> 34\u001b[0m \u001b[38;5;28mself\u001b[39m\u001b[38;5;241m.\u001b[39mweights, cost_history \u001b[38;5;241m=\u001b[39m \u001b[38;5;28;43mself\u001b[39;49m\u001b[38;5;241;43m.\u001b[39;49m\u001b[43mgradient_descent\u001b[49m\u001b[43m(\u001b[49m\u001b[43mX\u001b[49m\u001b[43m,\u001b[49m\u001b[43m \u001b[49m\u001b[43my\u001b[49m\u001b[43m,\u001b[49m\u001b[43m \u001b[49m\u001b[43mlearning_rate\u001b[49m\u001b[43m,\u001b[49m\u001b[43m \u001b[49m\u001b[43miterations\u001b[49m\u001b[43m)\u001b[49m\n\u001b[0;32m     35\u001b[0m \u001b[38;5;28;01mreturn\u001b[39;00m \u001b[38;5;28mself\u001b[39m\u001b[38;5;241m.\u001b[39mweights\n",
      "Cell \u001b[1;32mIn[21], line 22\u001b[0m, in \u001b[0;36mLogisticRegression.gradient_descent\u001b[1;34m(self, X, y, learning_rate, iterations)\u001b[0m\n\u001b[0;32m     19\u001b[0m cost_history \u001b[38;5;241m=\u001b[39m []\n\u001b[0;32m     21\u001b[0m \u001b[38;5;28;01mfor\u001b[39;00m i \u001b[38;5;129;01min\u001b[39;00m \u001b[38;5;28mrange\u001b[39m(iterations):\n\u001b[1;32m---> 22\u001b[0m     h \u001b[38;5;241m=\u001b[39m \u001b[38;5;28mself\u001b[39m\u001b[38;5;241m.\u001b[39msigmoid(\u001b[43mnp\u001b[49m\u001b[38;5;241;43m.\u001b[39;49m\u001b[43mdot\u001b[49m\u001b[43m(\u001b[49m\u001b[43mX\u001b[49m\u001b[43m,\u001b[49m\u001b[43m \u001b[49m\u001b[38;5;28;43mself\u001b[39;49m\u001b[38;5;241;43m.\u001b[39;49m\u001b[43mweights\u001b[49m\u001b[43m)\u001b[49m)\n\u001b[0;32m     23\u001b[0m     gradient \u001b[38;5;241m=\u001b[39m np\u001b[38;5;241m.\u001b[39mdot(X\u001b[38;5;241m.\u001b[39mT, (h \u001b[38;5;241m-\u001b[39m y)) \u001b[38;5;241m/\u001b[39m m\n\u001b[0;32m     24\u001b[0m     \u001b[38;5;28mself\u001b[39m\u001b[38;5;241m.\u001b[39mweights \u001b[38;5;241m-\u001b[39m\u001b[38;5;241m=\u001b[39m learning_rate \u001b[38;5;241m*\u001b[39m gradient  \n",
      "File \u001b[1;32mc:\\Users\\Asus\\AppData\\Local\\Programs\\Python\\Python311\\Lib\\site-packages\\pandas\\core\\generic.py:2149\u001b[0m, in \u001b[0;36mNDFrame.__array__\u001b[1;34m(self, dtype)\u001b[0m\n\u001b[0;32m   2148\u001b[0m \u001b[38;5;28;01mdef\u001b[39;00m \u001b[38;5;21m__array__\u001b[39m(\u001b[38;5;28mself\u001b[39m, dtype: npt\u001b[38;5;241m.\u001b[39mDTypeLike \u001b[38;5;241m|\u001b[39m \u001b[38;5;28;01mNone\u001b[39;00m \u001b[38;5;241m=\u001b[39m \u001b[38;5;28;01mNone\u001b[39;00m) \u001b[38;5;241m-\u001b[39m\u001b[38;5;241m>\u001b[39m np\u001b[38;5;241m.\u001b[39mndarray:\n\u001b[1;32m-> 2149\u001b[0m     values \u001b[38;5;241m=\u001b[39m \u001b[38;5;28;43mself\u001b[39;49m\u001b[38;5;241;43m.\u001b[39;49m\u001b[43m_values\u001b[49m\n\u001b[0;32m   2150\u001b[0m     arr \u001b[38;5;241m=\u001b[39m np\u001b[38;5;241m.\u001b[39masarray(values, dtype\u001b[38;5;241m=\u001b[39mdtype)\n\u001b[0;32m   2151\u001b[0m     \u001b[38;5;28;01mif\u001b[39;00m (\n\u001b[0;32m   2152\u001b[0m         astype_is_view(values\u001b[38;5;241m.\u001b[39mdtype, arr\u001b[38;5;241m.\u001b[39mdtype)\n\u001b[0;32m   2153\u001b[0m         \u001b[38;5;129;01mand\u001b[39;00m using_copy_on_write()\n\u001b[0;32m   2154\u001b[0m         \u001b[38;5;129;01mand\u001b[39;00m \u001b[38;5;28mself\u001b[39m\u001b[38;5;241m.\u001b[39m_mgr\u001b[38;5;241m.\u001b[39mis_single_block\n\u001b[0;32m   2155\u001b[0m     ):\n\u001b[0;32m   2156\u001b[0m         \u001b[38;5;66;03m# Check if both conversions can be done without a copy\u001b[39;00m\n",
      "File \u001b[1;32mc:\\Users\\Asus\\AppData\\Local\\Programs\\Python\\Python311\\Lib\\site-packages\\pandas\\core\\frame.py:1116\u001b[0m, in \u001b[0;36mDataFrame._values\u001b[1;34m(self)\u001b[0m\n\u001b[0;32m   1114\u001b[0m blocks \u001b[38;5;241m=\u001b[39m mgr\u001b[38;5;241m.\u001b[39mblocks\n\u001b[0;32m   1115\u001b[0m \u001b[38;5;28;01mif\u001b[39;00m \u001b[38;5;28mlen\u001b[39m(blocks) \u001b[38;5;241m!=\u001b[39m \u001b[38;5;241m1\u001b[39m:\n\u001b[1;32m-> 1116\u001b[0m     \u001b[38;5;28;01mreturn\u001b[39;00m ensure_wrapped_if_datetimelike(\u001b[38;5;28;43mself\u001b[39;49m\u001b[38;5;241;43m.\u001b[39;49m\u001b[43mvalues\u001b[49m)\n\u001b[0;32m   1118\u001b[0m arr \u001b[38;5;241m=\u001b[39m blocks[\u001b[38;5;241m0\u001b[39m]\u001b[38;5;241m.\u001b[39mvalues\n\u001b[0;32m   1119\u001b[0m \u001b[38;5;28;01mif\u001b[39;00m arr\u001b[38;5;241m.\u001b[39mndim \u001b[38;5;241m==\u001b[39m \u001b[38;5;241m1\u001b[39m:\n\u001b[0;32m   1120\u001b[0m     \u001b[38;5;66;03m# non-2D ExtensionArray\u001b[39;00m\n",
      "File \u001b[1;32mc:\\Users\\Asus\\AppData\\Local\\Programs\\Python\\Python311\\Lib\\site-packages\\pandas\\core\\frame.py:12651\u001b[0m, in \u001b[0;36mDataFrame.values\u001b[1;34m(self)\u001b[0m\n\u001b[0;32m  12577\u001b[0m \u001b[38;5;129m@property\u001b[39m\n\u001b[0;32m  12578\u001b[0m \u001b[38;5;28;01mdef\u001b[39;00m \u001b[38;5;21mvalues\u001b[39m(\u001b[38;5;28mself\u001b[39m) \u001b[38;5;241m-\u001b[39m\u001b[38;5;241m>\u001b[39m np\u001b[38;5;241m.\u001b[39mndarray:\n\u001b[0;32m  12579\u001b[0m \u001b[38;5;250m    \u001b[39m\u001b[38;5;124;03m\"\"\"\u001b[39;00m\n\u001b[0;32m  12580\u001b[0m \u001b[38;5;124;03m    Return a Numpy representation of the DataFrame.\u001b[39;00m\n\u001b[0;32m  12581\u001b[0m \n\u001b[1;32m   (...)\u001b[0m\n\u001b[0;32m  12649\u001b[0m \u001b[38;5;124;03m           ['monkey', nan, None]], dtype=object)\u001b[39;00m\n\u001b[0;32m  12650\u001b[0m \u001b[38;5;124;03m    \"\"\"\u001b[39;00m\n\u001b[1;32m> 12651\u001b[0m     \u001b[38;5;28;01mreturn\u001b[39;00m \u001b[38;5;28;43mself\u001b[39;49m\u001b[38;5;241;43m.\u001b[39;49m\u001b[43m_mgr\u001b[49m\u001b[38;5;241;43m.\u001b[39;49m\u001b[43mas_array\u001b[49m\u001b[43m(\u001b[49m\u001b[43m)\u001b[49m\n",
      "File \u001b[1;32mc:\\Users\\Asus\\AppData\\Local\\Programs\\Python\\Python311\\Lib\\site-packages\\pandas\\core\\internals\\managers.py:1692\u001b[0m, in \u001b[0;36mBlockManager.as_array\u001b[1;34m(self, dtype, copy, na_value)\u001b[0m\n\u001b[0;32m   1690\u001b[0m         arr\u001b[38;5;241m.\u001b[39mflags\u001b[38;5;241m.\u001b[39mwriteable \u001b[38;5;241m=\u001b[39m \u001b[38;5;28;01mFalse\u001b[39;00m\n\u001b[0;32m   1691\u001b[0m \u001b[38;5;28;01melse\u001b[39;00m:\n\u001b[1;32m-> 1692\u001b[0m     arr \u001b[38;5;241m=\u001b[39m \u001b[38;5;28;43mself\u001b[39;49m\u001b[38;5;241;43m.\u001b[39;49m\u001b[43m_interleave\u001b[49m\u001b[43m(\u001b[49m\u001b[43mdtype\u001b[49m\u001b[38;5;241;43m=\u001b[39;49m\u001b[43mdtype\u001b[49m\u001b[43m,\u001b[49m\u001b[43m \u001b[49m\u001b[43mna_value\u001b[49m\u001b[38;5;241;43m=\u001b[39;49m\u001b[43mna_value\u001b[49m\u001b[43m)\u001b[49m\n\u001b[0;32m   1693\u001b[0m     \u001b[38;5;66;03m# The underlying data was copied within _interleave, so no need\u001b[39;00m\n\u001b[0;32m   1694\u001b[0m     \u001b[38;5;66;03m# to further copy if copy=True or setting na_value\u001b[39;00m\n\u001b[0;32m   1696\u001b[0m \u001b[38;5;28;01mif\u001b[39;00m na_value \u001b[38;5;129;01mis\u001b[39;00m lib\u001b[38;5;241m.\u001b[39mno_default:\n",
      "File \u001b[1;32mc:\\Users\\Asus\\AppData\\Local\\Programs\\Python\\Python311\\Lib\\site-packages\\pandas\\core\\internals\\managers.py:1752\u001b[0m, in \u001b[0;36mBlockManager._interleave\u001b[1;34m(self, dtype, na_value)\u001b[0m\n\u001b[0;32m   1750\u001b[0m         arr \u001b[38;5;241m=\u001b[39m blk\u001b[38;5;241m.\u001b[39mget_values(dtype)\n\u001b[0;32m   1751\u001b[0m     result[rl\u001b[38;5;241m.\u001b[39mindexer] \u001b[38;5;241m=\u001b[39m arr\n\u001b[1;32m-> 1752\u001b[0m     itemmask[rl\u001b[38;5;241m.\u001b[39mindexer] \u001b[38;5;241m=\u001b[39m \u001b[38;5;241m1\u001b[39m\n\u001b[0;32m   1754\u001b[0m \u001b[38;5;28;01mif\u001b[39;00m \u001b[38;5;129;01mnot\u001b[39;00m itemmask\u001b[38;5;241m.\u001b[39mall():\n\u001b[0;32m   1755\u001b[0m     \u001b[38;5;28;01mraise\u001b[39;00m \u001b[38;5;167;01mAssertionError\u001b[39;00m(\u001b[38;5;124m\"\u001b[39m\u001b[38;5;124mSome items were not contained in blocks\u001b[39m\u001b[38;5;124m\"\u001b[39m)\n",
      "\u001b[1;31mKeyboardInterrupt\u001b[0m: "
     ]
    }
   ],
   "source": [
    "base_models, X_train, X_test, y_train, y_test, avg_metrics = bagging()\n",
    "\n",
    "if avg_metrics is not None:\n",
    "    print(\"Average Performance Metrics:\")\n",
    "    print(f\"Accuracy: {avg_metrics[0]}\")\n",
    "    print(f\"Sensitivity: {avg_metrics[1]}\")\n",
    "    print(f\"Specificity: {avg_metrics[2]}\")\n",
    "    print(f\"Precision: {avg_metrics[3]}\")\n",
    "    print(f\"F1-score: {avg_metrics[4]}\")\n",
    "    print(f\"AUC: {avg_metrics[5]}\")\n",
    "    print(f\"AUPR: {avg_metrics[6]}\")\n"
   ]
  },
  {
   "cell_type": "code",
   "execution_count": null,
   "metadata": {},
   "outputs": [],
   "source": []
  },
  {
   "cell_type": "code",
   "execution_count": 13,
   "metadata": {},
   "outputs": [],
   "source": [
    "from sklearn.metrics import confusion_matrix, roc_auc_score, precision_recall_curve, auc\n",
    "\n",
    "def stacking(base_models, X_train, y_train, X_test, y_test):\n",
    "    try:\n",
    "        meta_train = np.zeros((X_train.shape[0], len(base_models)))  \n",
    "        meta_test = np.zeros((X_test.shape[0], len(base_models)))   \n",
    "\n",
    "        for idx, model in enumerate(base_models):\n",
    "            meta_train[:, idx] = model.predict(X_train)\n",
    "            \n",
    "            meta_test[:, idx] = model.predict(X_test)\n",
    "\n",
    "        print(f\"meta_train shape: {meta_train.shape}, meta_test shape: {meta_test.shape}\")\n",
    "\n",
    "        meta_model = LogisticRegression()  \n",
    "        meta_model.fit(meta_train, y_train)\n",
    "\n",
    "        final_predictions = meta_model.predict(meta_test)\n",
    "\n",
    "        \n",
    "        y_prob = meta_model.predict_proba(meta_test)[:, 1]  \n",
    "\n",
    "        \n",
    "        accuracy, sensitivity, specificity, precision, f1, auc_score, aupr = calculate_metrics(y_test, final_predictions, y_prob)\n",
    "\n",
    "\n",
    "        return meta_model, final_predictions, accuracy, sensitivity, specificity, precision, f1, auc_score, aupr\n",
    "    \n",
    "    except Exception as e:\n",
    "        print(f\"Error in stacking: {e}\")\n",
    "\n"
   ]
  },
  {
   "cell_type": "code",
   "execution_count": 14,
   "metadata": {},
   "outputs": [],
   "source": [
    "\n",
    "def base_prediction():\n",
    "        \n",
    "        meta_model, final_predictions, accuracy, sensitivity, specificity, precision, f1, auc_score, aupr = stacking(base_models, X_train, y_train, X_test, y_test)\n",
    "    \n",
    "   \n",
    "        print(f'Accuracy (from stacking): {accuracy}')\n",
    "        \n",
    "        print(f\"Sensitivity: {sensitivity}\")\n",
    "        print(f\"Specificity: {specificity}\")\n",
    "        print(f\"Precision: {precision}\")\n",
    "        print(f\"F1-score: {f1}\")\n",
    "        print(f\"AUC: {auc_score}\")\n",
    "        print(f\"AUPR: {aupr}\")\n",
    "\n",
    "        return accuracy"
   ]
  },
  {
   "cell_type": "code",
   "execution_count": 15,
   "metadata": {},
   "outputs": [],
   "source": [
    "def majority_voting(base_models, X_test):\n",
    "    base_predictions = np.column_stack([model.predict(X_test) for model in base_models])\n",
    "    \n",
    "    final_predictions, _ = mode(base_predictions, axis=1)\n",
    "    \n",
    "    return final_predictions.flatten()"
   ]
  },
  {
   "cell_type": "code",
   "execution_count": 16,
   "metadata": {},
   "outputs": [],
   "source": [
    "def voting_prediction():\n",
    "    voting_predictions = majority_voting(base_models, X_test)\n",
    "    \n",
    "    voting_probabilities = np.mean([model.predict_proba(X_test)[:, 1] for model in base_models], axis=0)\n",
    "\n",
    "    accuracy, sensitivity, specificity, precision, f1, auc_score, aupr = calculate_metrics(y_test, voting_predictions, voting_probabilities)\n",
    "\n",
    "    print(f'Accuracy: {accuracy}')\n",
    "    print(f'Sensitivity: {sensitivity}')\n",
    "    print(f'Specificity: {specificity}')\n",
    "    print(f'Precision: {precision}')\n",
    "    print(f'F1-score: {f1}')\n",
    "    print(f'AUC: {auc_score}')\n",
    "    print(f'AUPR: {aupr}')\n",
    "\n",
    "    return accuracy, sensitivity, specificity, precision, f1, auc_score, aupr"
   ]
  },
  {
   "cell_type": "code",
   "execution_count": 17,
   "metadata": {},
   "outputs": [
    {
     "name": "stdout",
     "output_type": "stream",
     "text": [
      "meta_train shape: (227845, 9), meta_test shape: (56962, 9)\n",
      "Error in stacking: 'LogisticRegression' object has no attribute 'predict_proba'\n"
     ]
    },
    {
     "ename": "TypeError",
     "evalue": "cannot unpack non-iterable NoneType object",
     "output_type": "error",
     "traceback": [
      "\u001b[1;31m---------------------------------------------------------------------------\u001b[0m",
      "\u001b[1;31mTypeError\u001b[0m                                 Traceback (most recent call last)",
      "Cell \u001b[1;32mIn[17], line 2\u001b[0m\n\u001b[0;32m      1\u001b[0m \u001b[38;5;66;03m#acc=voting_prediction()\u001b[39;00m\n\u001b[1;32m----> 2\u001b[0m base_accuracy\u001b[38;5;241m=\u001b[39m\u001b[43mbase_prediction\u001b[49m\u001b[43m(\u001b[49m\u001b[43m)\u001b[49m\n",
      "Cell \u001b[1;32mIn[14], line 3\u001b[0m, in \u001b[0;36mbase_prediction\u001b[1;34m()\u001b[0m\n\u001b[0;32m      1\u001b[0m \u001b[38;5;28;01mdef\u001b[39;00m \u001b[38;5;21mbase_prediction\u001b[39m():\n\u001b[1;32m----> 3\u001b[0m         meta_model, final_predictions, accuracy, sensitivity, specificity, precision, f1, auc_score, aupr \u001b[38;5;241m=\u001b[39m stacking(base_models, X_train, y_train, X_test, y_test)\n\u001b[0;32m      6\u001b[0m         \u001b[38;5;28mprint\u001b[39m(\u001b[38;5;124mf\u001b[39m\u001b[38;5;124m'\u001b[39m\u001b[38;5;124mAccuracy (from stacking): \u001b[39m\u001b[38;5;132;01m{\u001b[39;00maccuracy\u001b[38;5;132;01m}\u001b[39;00m\u001b[38;5;124m'\u001b[39m)\n\u001b[0;32m      8\u001b[0m         \u001b[38;5;28mprint\u001b[39m(\u001b[38;5;124mf\u001b[39m\u001b[38;5;124m\"\u001b[39m\u001b[38;5;124mSensitivity: \u001b[39m\u001b[38;5;132;01m{\u001b[39;00msensitivity\u001b[38;5;132;01m}\u001b[39;00m\u001b[38;5;124m\"\u001b[39m)\n",
      "\u001b[1;31mTypeError\u001b[0m: cannot unpack non-iterable NoneType object"
     ]
    }
   ],
   "source": [
    "#acc=voting_prediction()\n",
    "base_accuracy=base_prediction()\n"
   ]
  },
  {
   "cell_type": "code",
   "execution_count": 96,
   "metadata": {},
   "outputs": [
    {
     "name": "stdout",
     "output_type": "stream",
     "text": [
      "Accuracy: 0.9993328885923949\n",
      "Sensitivity: 0.7040816326530612\n",
      "Specificity: 0.9998417276308385\n",
      "Precision: 0.8846153846153846\n",
      "F1-score: 0.7840909090909091\n",
      "AUC: 0.9796372368587276\n",
      "AUPR: 0.8168181747899139\n"
     ]
    }
   ],
   "source": [
    "voting_accuracy, voting_sensitivity, voting_specificity, voting_precision, voting_f1, voting_auc, voting_aupr = voting_prediction() "
   ]
  }
 ],
 "metadata": {
  "kernelspec": {
   "display_name": "Python 3",
   "language": "python",
   "name": "python3"
  },
  "language_info": {
   "codemirror_mode": {
    "name": "ipython",
    "version": 3
   },
   "file_extension": ".py",
   "mimetype": "text/x-python",
   "name": "python",
   "nbconvert_exporter": "python",
   "pygments_lexer": "ipython3",
   "version": "3.11.0"
  }
 },
 "nbformat": 4,
 "nbformat_minor": 2
}
